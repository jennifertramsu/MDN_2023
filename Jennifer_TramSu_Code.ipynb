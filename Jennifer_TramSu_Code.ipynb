{
  "nbformat": 4,
  "nbformat_minor": 0,
  "metadata": {
    "colab": {
      "provenance": []
    },
    "kernelspec": {
      "name": "python3",
      "display_name": "Python 3"
    },
    "language_info": {
      "name": "python"
    }
  },
  "cells": [
    {
      "cell_type": "code",
      "execution_count": 19,
      "metadata": {
        "colab": {
          "base_uri": "https://localhost:8080/"
        },
        "id": "QcHj5NrbBYOw",
        "outputId": "e569da27-e03f-4e11-80ff-8fee78d8aae6"
      },
      "outputs": [
        {
          "output_type": "stream",
          "name": "stdout",
          "text": [
            "Drive already mounted at /content/drive; to attempt to forcibly remount, call drive.mount(\"/content/drive\", force_remount=True).\n"
          ]
        }
      ],
      "source": [
        "# Importing Librairies\n",
        "\n",
        "from google.colab import drive\n",
        "drive.mount('/content/drive')\n",
        "\n",
        "# Data Handling\n",
        "import pandas as pd\n",
        "\n",
        "# Visualization\n",
        "import matplotlib.pyplot as plt\n",
        "\n",
        "# Models\n",
        "from sklearn.svm import SVC\n",
        "from sklearn.model_selection import cross_validate\n",
        "\n",
        "# Lasso Regularization\n",
        "#from sklearn.linear_model import Lasso\n",
        "#from sklearn.feature_selection import SelectFromModel\n",
        "#from sklearn.preprocessing import StandardScaler\n",
        "\n",
        "# Stats\n",
        "#from scipy.stats import pearsonr, spearmanr\n",
        "#import numpy as np\n",
        "from sklearn.metrics import mean_squared_error\n",
        "\n",
        "# Models\n",
        "#from sklearn.ensemble import RandomForestRegressor\n",
        "#from sklearn.model_selection import RandomizedSearchCV\n",
        "from sklearn.model_selection import train_test_split"
      ]
    },
    {
      "cell_type": "code",
      "source": [
        "# Importing Datasets\n",
        "\n",
        "path = \"/content/drive/MyDrive/\"\n",
        "\n",
        "train_ds = pd.read_csv(path + \"Past_Students.csv\").drop('Serial_No', axis=1) # Dropping Student Serial No., irrelevant\n",
        "test_ds = pd.read_csv(path + \"Graduating_Class.csv\")"
      ],
      "metadata": {
        "id": "Dx-z7rAyBj4l"
      },
      "execution_count": 6,
      "outputs": []
    },
    {
      "cell_type": "code",
      "source": [
        "# Test Train Split\n",
        "\n",
        "X_ds = train_ds[['GRE_Score', 'TOEFL_Score', 'University_Rating', 'SOP', 'LOR', 'CGPA', 'Research']]\n",
        "y_ds = train_ds['Chance_of_Admit']\n",
        "\n",
        "X_train, X_test, y_train, y_test = train_test_split(X_ds, y_ds, test_size=0.25)\n"
      ],
      "metadata": {
        "id": "9uTr0j8xC_h7"
      },
      "execution_count": 10,
      "outputs": []
    },
    {
      "cell_type": "code",
      "source": [
        "# Continuous to Binary Output\n",
        "\n",
        "y_train_binary = y_train.map(lambda x: 1 if x>= 0.5 else 0)"
      ],
      "metadata": {
        "colab": {
          "base_uri": "https://localhost:8080/"
        },
        "id": "Q5juifjhAxJl",
        "outputId": "0cdb81db-29f7-4235-9749-03e739fff686"
      },
      "execution_count": 16,
      "outputs": [
        {
          "output_type": "execute_result",
          "data": {
            "text/plain": [
              "157    1\n",
              "224    1\n",
              "144    1\n",
              "124    1\n",
              "322    1\n",
              "      ..\n",
              "13     1\n",
              "41     0\n",
              "126    1\n",
              "325    1\n",
              "143    1\n",
              "Name: Chance_of_Admit, Length: 262, dtype: int64"
            ]
          },
          "metadata": {},
          "execution_count": 16
        }
      ]
    },
    {
      "cell_type": "code",
      "source": [
        "# Cross Validation with Lasso Regularization (l1)\n",
        "\n",
        "# Defining the model\n",
        "\n",
        "param_grid = {\n",
        "    'kernel' : {'linear', 'poly', 'rbf'},\n",
        "    'gamma' : {'scale', 'auto'}\n",
        "}\n",
        "\n",
        "scoring = mean_squared_error\n",
        "\n",
        "SVC_mdl = SVC(\n",
        "    probability=True\n",
        ")\n",
        "\n",
        "scores = cross_validate(SVC_mdl, X_train, y_train_binary, scoring=scoring)"
      ],
      "metadata": {
        "colab": {
          "base_uri": "https://localhost:8080/"
        },
        "id": "_ef28_kv9z5y",
        "outputId": "2cba82ba-0dfc-4b7a-94f4-24e43f4a716e"
      },
      "execution_count": 21,
      "outputs": [
        {
          "output_type": "stream",
          "name": "stderr",
          "text": [
            "/usr/local/lib/python3.8/dist-packages/sklearn/model_selection/_validation.py:770: UserWarning: Scoring failed. The score on this train-test partition for these parameters will be set to nan. Details: \n",
            "Traceback (most recent call last):\n",
            "  File \"/usr/local/lib/python3.8/dist-packages/sklearn/model_selection/_validation.py\", line 761, in _score\n",
            "    scores = scorer(estimator, X_test, y_test)\n",
            "TypeError: mean_squared_error() takes 2 positional arguments but 3 were given\n",
            "\n",
            "  warnings.warn(\n",
            "/usr/local/lib/python3.8/dist-packages/sklearn/model_selection/_validation.py:770: UserWarning: Scoring failed. The score on this train-test partition for these parameters will be set to nan. Details: \n",
            "Traceback (most recent call last):\n",
            "  File \"/usr/local/lib/python3.8/dist-packages/sklearn/model_selection/_validation.py\", line 761, in _score\n",
            "    scores = scorer(estimator, X_test, y_test)\n",
            "TypeError: mean_squared_error() takes 2 positional arguments but 3 were given\n",
            "\n",
            "  warnings.warn(\n",
            "/usr/local/lib/python3.8/dist-packages/sklearn/model_selection/_validation.py:770: UserWarning: Scoring failed. The score on this train-test partition for these parameters will be set to nan. Details: \n",
            "Traceback (most recent call last):\n",
            "  File \"/usr/local/lib/python3.8/dist-packages/sklearn/model_selection/_validation.py\", line 761, in _score\n",
            "    scores = scorer(estimator, X_test, y_test)\n",
            "TypeError: mean_squared_error() takes 2 positional arguments but 3 were given\n",
            "\n",
            "  warnings.warn(\n",
            "/usr/local/lib/python3.8/dist-packages/sklearn/model_selection/_validation.py:770: UserWarning: Scoring failed. The score on this train-test partition for these parameters will be set to nan. Details: \n",
            "Traceback (most recent call last):\n",
            "  File \"/usr/local/lib/python3.8/dist-packages/sklearn/model_selection/_validation.py\", line 761, in _score\n",
            "    scores = scorer(estimator, X_test, y_test)\n",
            "TypeError: mean_squared_error() takes 2 positional arguments but 3 were given\n",
            "\n",
            "  warnings.warn(\n",
            "/usr/local/lib/python3.8/dist-packages/sklearn/model_selection/_validation.py:770: UserWarning: Scoring failed. The score on this train-test partition for these parameters will be set to nan. Details: \n",
            "Traceback (most recent call last):\n",
            "  File \"/usr/local/lib/python3.8/dist-packages/sklearn/model_selection/_validation.py\", line 761, in _score\n",
            "    scores = scorer(estimator, X_test, y_test)\n",
            "TypeError: mean_squared_error() takes 2 positional arguments but 3 were given\n",
            "\n",
            "  warnings.warn(\n"
          ]
        }
      ]
    },
    {
      "cell_type": "code",
      "source": [
        "scores"
      ],
      "metadata": {
        "colab": {
          "base_uri": "https://localhost:8080/"
        },
        "id": "2a_Qa47SFktd",
        "outputId": "4253041f-69ea-4d66-ad6f-a7790d42817b"
      },
      "execution_count": 22,
      "outputs": [
        {
          "output_type": "execute_result",
          "data": {
            "text/plain": [
              "{'fit_time': array([0.01676083, 0.01399612, 0.01967764, 0.02022338, 0.01625919]),\n",
              " 'score_time': array([0.00103545, 0.00256538, 0.00073171, 0.00512719, 0.00305891]),\n",
              " 'test_score': array([nan, nan, nan, nan, nan])}"
            ]
          },
          "metadata": {},
          "execution_count": 22
        }
      ]
    },
    {
      "cell_type": "markdown",
      "source": [
        "# ARCHIVE"
      ],
      "metadata": {
        "id": "iUXPkyzy6tne"
      }
    },
    {
      "cell_type": "code",
      "source": [
        "# Finding interaction variables\n",
        "\n",
        "# SOP * LOR\n",
        "\n",
        "X_train[\"SOP X LOR\"] = X_train[\"SOP\"] * X_train[\"LOR\"]\n",
        "X_train[\"Scores\"] = X_train[\"GRE_Score\"] * X_train[\"TOEFL_Score\"] * X_train[\"CGPA\"]\n",
        "X_valid[\"Scores\"] = X_valid[\"GRE_Score\"] * X_valid[\"TOEFL_Score\"] * X_valid[\"CGPA\"]"
      ],
      "metadata": {
        "id": "GMUpccC8fKK0"
      },
      "execution_count": null,
      "outputs": []
    },
    {
      "cell_type": "code",
      "source": [
        "# Data Visualization\n",
        "\n",
        "Columns = ['GRE_Score', 'TOEFL_Score', 'University_Rating', 'SOP', 'LOR', 'CGPA', 'Research', 'SOP X LOR', 'Scores']\n",
        "\n",
        "plt.rcParams['figure.figsize'] = (50, 10)\n",
        "\n",
        "for i in range(len(Columns)):\n",
        "  plt.subplot(1, len(Columns), i+1)\n",
        "  \n",
        "  X = Columns[i]\n",
        "  plt.xlabel(X)\n",
        "  plt.ylabel('Chance_of_Admit')\n",
        "  plt.scatter(X_train[X], y_train)\n",
        "  plt.grid()"
      ],
      "metadata": {
        "colab": {
          "base_uri": "https://localhost:8080/",
          "height": 347
        },
        "id": "7MV15JAjB1-i",
        "outputId": "a08bdac6-2133-4810-e3d0-d1efc2876d27"
      },
      "execution_count": null,
      "outputs": [
        {
          "output_type": "display_data",
          "data": {
            "text/plain": [
              "<Figure size 3600x720 with 9 Axes>"
            ],
            "image/png": "[encoded data removed]"
          },
          "metadata": {
            "needs_background": "light"
          }
        }
      ]
    },
    {
      "cell_type": "markdown",
      "source": [
        "# Statistical Significance of Feature and Label\n",
        "\n",
        "## Pearson Correlation\n",
        "- Measure of the linear correlation between two sets of numeric data\n",
        "\n",
        "## Spearman Correlation\n",
        "- Similar to Pearson correlation, but can measure non-linear relationships between variables\n",
        "- Still requires the relationship to be monotonic\n",
        "\n",
        "## Correlation Ratio\n",
        "- Measure of the correlation between a categorical column and a numeric column\n",
        "- Unable to measure the direction of the correlation, can only measure its magnitude\n",
        "- Good for Research column"
      ],
      "metadata": {
        "id": "AIsRHJm5KXN6"
      }
    },
    {
      "cell_type": "code",
      "source": [
        "def correlation_ratio(categorical_feature, numeric_feature):\n",
        "    # From https://www.turintech.ai/four-methods-to-statistically-measure-your-data-correlation/\n",
        "\n",
        "    cats, freqs = np.unique(categorical_feature, return_counts=True)\n",
        "    numeric_mean = np.mean(numeric_feature)\n",
        "    sig_y_bar = 0\n",
        "\n",
        "    for i in range(len(cats)):\n",
        "        category_mean = np.mean(numeric_feature[categorical_feature == cats[i]])\n",
        "        sig_y_bar += np.square(category_mean - numeric_mean) * freqs[i]\n",
        "        \n",
        "    sig_y = np.sum(np.square(numeric_feature - numeric_mean))\n",
        "    statistic = np.sqrt(sig_y_bar / sig_y)\n",
        "\n",
        "    return statistic"
      ],
      "metadata": {
        "id": "p4eSLpAMNAhe"
      },
      "execution_count": null,
      "outputs": []
    },
    {
      "cell_type": "code",
      "source": [
        "# Correlation\n",
        "\n",
        "for i in range(len(Columns)):\n",
        "  X = Columns[i]\n",
        "\n",
        "  print(\"------------------------------\\n\")\n",
        "\n",
        "  print(\"Pearson Correlation for: \" + X)\n",
        "  print(\"%.2f\" % (pearsonr(X_train[X], y_train)[0]))\n",
        "  print()\n",
        "\n",
        "  print(\"Spearman Correlation for: \" + X)\n",
        "  print(\"%.2f\" % (spearmanr(X_train[X], y_train)[0]))\n",
        "  print()\n",
        "\n",
        "  if X == 'Research':\n",
        "    print(\"Correlation Ratio for: \" + X)\n",
        "    print(\"%.2f\" % (correlation_ratio(X_train[X], y_train)))\n",
        "\n",
        "  print(\"\\n------------------------------\\n\")"
      ],
      "metadata": {
        "colab": {
          "base_uri": "https://localhost:8080/"
        },
        "id": "eDCviXrhKXWO",
        "outputId": "57e5471e-ce19-4b4b-de15-16faa7fe3657"
      },
      "execution_count": null,
      "outputs": [
        {
          "output_type": "stream",
          "name": "stdout",
          "text": [
            "------------------------------\n",
            "\n",
            "Pearson Correlation for: GRE_Score\n",
            "0.82\n",
            "\n",
            "Spearman Correlation for: GRE_Score\n",
            "0.83\n",
            "\n",
            "\n",
            "------------------------------\n",
            "\n",
            "------------------------------\n",
            "\n",
            "Pearson Correlation for: TOEFL_Score\n",
            "0.81\n",
            "\n",
            "Spearman Correlation for: TOEFL_Score\n",
            "0.81\n",
            "\n",
            "\n",
            "------------------------------\n",
            "\n",
            "------------------------------\n",
            "\n",
            "Pearson Correlation for: University_Rating\n",
            "0.72\n",
            "\n",
            "Spearman Correlation for: University_Rating\n",
            "0.73\n",
            "\n",
            "\n",
            "------------------------------\n",
            "\n",
            "------------------------------\n",
            "\n",
            "Pearson Correlation for: SOP\n",
            "0.69\n",
            "\n",
            "Spearman Correlation for: SOP\n",
            "0.71\n",
            "\n",
            "\n",
            "------------------------------\n",
            "\n",
            "------------------------------\n",
            "\n",
            "Pearson Correlation for: LOR\n",
            "0.68\n",
            "\n",
            "Spearman Correlation for: LOR\n",
            "0.69\n",
            "\n",
            "\n",
            "------------------------------\n",
            "\n",
            "------------------------------\n",
            "\n",
            "Pearson Correlation for: CGPA\n",
            "0.89\n",
            "\n",
            "Spearman Correlation for: CGPA\n",
            "0.89\n",
            "\n",
            "\n",
            "------------------------------\n",
            "\n",
            "------------------------------\n",
            "\n",
            "Pearson Correlation for: Research\n",
            "0.53\n",
            "\n",
            "Spearman Correlation for: Research\n",
            "0.55\n",
            "\n",
            "Correlation Ratio for: Research\n",
            "0.53\n",
            "\n",
            "------------------------------\n",
            "\n",
            "------------------------------\n",
            "\n",
            "Pearson Correlation for: SOP X LOR\n",
            "0.73\n",
            "\n",
            "Spearman Correlation for: SOP X LOR\n",
            "0.74\n",
            "\n",
            "\n",
            "------------------------------\n",
            "\n",
            "------------------------------\n",
            "\n",
            "Pearson Correlation for: Scores\n",
            "0.89\n",
            "\n",
            "Spearman Correlation for: Scores\n",
            "0.89\n",
            "\n",
            "\n",
            "------------------------------\n",
            "\n"
          ]
        }
      ]
    },
    {
      "cell_type": "code",
      "source": [
        "# Only keeping GRE, TOEFL, CGPA\n",
        "\n",
        "X_train_filtered = X_train[['GRE_Score', 'TOEFL_Score', 'CGPA']]\n",
        "X_valid_filtered = X_valid[['GRE_Score', 'TOEFL_Score', 'CGPA']]\n",
        "\n",
        "#X_train_filtered = X_train[[\"Scores\"]]\n",
        "#X_valid_filtered = X_valid[[\"Scores\"]]"
      ],
      "metadata": {
        "id": "vIlHnTGpTiVR"
      },
      "execution_count": null,
      "outputs": []
    },
    {
      "cell_type": "markdown",
      "source": [
        "# Algorithms to Try\n",
        "1) Random Forest\n",
        "\n",
        "2) Decision Tree\n",
        "\n",
        "3) Support Vector Machine\n",
        "\n",
        "4) K-Nearest Neighbours"
      ],
      "metadata": {
        "id": "nFyxF4k69_36"
      }
    },
    {
      "cell_type": "code",
      "source": [
        "# Random Forest Regressor\n",
        "\n",
        "rf = RandomForestRegressor(n_estimators=100, random_state=100)\n",
        "rf.fit(X_train_filtered, y_train)"
      ],
      "metadata": {
        "colab": {
          "base_uri": "https://localhost:8080/"
        },
        "id": "w5yY1BMxsJme",
        "outputId": "de671eea-79ff-4e8c-b59e-75c265b25377"
      },
      "execution_count": null,
      "outputs": [
        {
          "output_type": "execute_result",
          "data": {
            "text/plain": [
              "RandomForestRegressor(random_state=100)"
            ]
          },
          "metadata": {},
          "execution_count": 61
        }
      ]
    },
    {
      "cell_type": "code",
      "source": [
        "rf.score(X_valid_filtered, y_valid)"
      ],
      "metadata": {
        "colab": {
          "base_uri": "https://localhost:8080/"
        },
        "id": "d7LkOgles8o3",
        "outputId": "e93b4402-2e5b-4da4-96ae-84b93d3aecbe"
      },
      "execution_count": null,
      "outputs": [
        {
          "output_type": "execute_result",
          "data": {
            "text/plain": [
              "0.6194623308275551"
            ]
          },
          "metadata": {},
          "execution_count": 62
        }
      ]
    },
    {
      "cell_type": "code",
      "source": [
        "# Grid Search\n",
        "\n",
        "param_grid = [\n",
        "    {'n_estimators': [int(x) for x in np.linspace(200, 10, 2000)],\n",
        "     'max_features': ['auto', 'sqrt'],\n",
        "     'max_depth': [int(x) for x in np.linspace(10, 11, 110)],\n",
        "     'min_samples_split': [2, 5, 10, 15],\n",
        "     'min_samples_leaf': [1, 2, 4, 8],\n",
        "     'bootstrap': [True, False]\n",
        "    }\n",
        "]\n",
        "\n",
        "rf_random = RandomizedSearchCV(rf, param_grid, n_iter=100, cv=3, verbose=2, random_state = 100)\n",
        "rf_random.fit(X_train_filtered, y_train)"
      ],
      "metadata": {
        "colab": {
          "base_uri": "https://localhost:8080/"
        },
        "id": "L30vdftC0QP9",
        "outputId": "02fc0fae-085d-43de-ecc6-08ead8f9f00c"
      },
      "execution_count": null,
      "outputs": [
        {
          "output_type": "stream",
          "name": "stdout",
          "text": [
            "Fitting 3 folds for each of 100 candidates, totalling 300 fits\n",
            "[CV] END bootstrap=True, max_depth=10, max_features=auto, min_samples_leaf=4, min_samples_split=2, n_estimators=65; total time=   0.1s\n",
            "[CV] END bootstrap=True, max_depth=10, max_features=auto, min_samples_leaf=4, min_samples_split=2, n_estimators=65; total time=   0.1s\n",
            "[CV] END bootstrap=True, max_depth=10, max_features=auto, min_samples_leaf=4, min_samples_split=2, n_estimators=65; total time=   0.1s\n",
            "[CV] END bootstrap=False, max_depth=10, max_features=sqrt, min_samples_leaf=4, min_samples_split=15, n_estimators=50; total time=   0.1s\n",
            "[CV] END bootstrap=False, max_depth=10, max_features=sqrt, min_samples_leaf=4, min_samples_split=15, n_estimators=50; total time=   0.0s\n",
            "[CV] END bootstrap=False, max_depth=10, max_features=sqrt, min_samples_leaf=4, min_samples_split=15, n_estimators=50; total time=   0.1s\n",
            "[CV] END bootstrap=True, max_depth=10, max_features=sqrt, min_samples_leaf=4, min_samples_split=10, n_estimators=99; total time=   0.1s\n",
            "[CV] END bootstrap=True, max_depth=10, max_features=sqrt, min_samples_leaf=4, min_samples_split=10, n_estimators=99; total time=   0.1s\n",
            "[CV] END bootstrap=True, max_depth=10, max_features=sqrt, min_samples_leaf=4, min_samples_split=10, n_estimators=99; total time=   0.1s\n",
            "[CV] END bootstrap=False, max_depth=10, max_features=sqrt, min_samples_leaf=4, min_samples_split=15, n_estimators=188; total time=   0.2s\n",
            "[CV] END bootstrap=False, max_depth=10, max_features=sqrt, min_samples_leaf=4, min_samples_split=15, n_estimators=188; total time=   0.2s\n",
            "[CV] END bootstrap=False, max_depth=10, max_features=sqrt, min_samples_leaf=4, min_samples_split=15, n_estimators=188; total time=   0.2s\n",
            "[CV] END bootstrap=False, max_depth=10, max_features=auto, min_samples_leaf=4, min_samples_split=10, n_estimators=24; total time=   0.0s\n",
            "[CV] END bootstrap=False, max_depth=10, max_features=auto, min_samples_leaf=4, min_samples_split=10, n_estimators=24; total time=   0.0s\n",
            "[CV] END bootstrap=False, max_depth=10, max_features=auto, min_samples_leaf=4, min_samples_split=10, n_estimators=24; total time=   0.0s\n",
            "[CV] END bootstrap=False, max_depth=10, max_features=sqrt, min_samples_leaf=2, min_samples_split=2, n_estimators=149; total time=   0.1s\n",
            "[CV] END bootstrap=False, max_depth=10, max_features=sqrt, min_samples_leaf=2, min_samples_split=2, n_estimators=149; total time=   0.2s\n",
            "[CV] END bootstrap=False, max_depth=10, max_features=sqrt, min_samples_leaf=2, min_samples_split=2, n_estimators=149; total time=   0.1s\n",
            "[CV] END bootstrap=True, max_depth=10, max_features=sqrt, min_samples_leaf=4, min_samples_split=15, n_estimators=84; total time=   0.1s\n",
            "[CV] END bootstrap=True, max_depth=10, max_features=sqrt, min_samples_leaf=4, min_samples_split=15, n_estimators=84; total time=   0.1s\n",
            "[CV] END bootstrap=True, max_depth=10, max_features=sqrt, min_samples_leaf=4, min_samples_split=15, n_estimators=84; total time=   0.1s\n",
            "[CV] END bootstrap=True, max_depth=10, max_features=auto, min_samples_leaf=2, min_samples_split=15, n_estimators=130; total time=   0.2s\n",
            "[CV] END bootstrap=True, max_depth=10, max_features=auto, min_samples_leaf=2, min_samples_split=15, n_estimators=130; total time=   0.2s\n",
            "[CV] END bootstrap=True, max_depth=10, max_features=auto, min_samples_leaf=2, min_samples_split=15, n_estimators=130; total time=   0.2s\n",
            "[CV] END bootstrap=True, max_depth=10, max_features=sqrt, min_samples_leaf=1, min_samples_split=5, n_estimators=186; total time=   0.2s\n",
            "[CV] END bootstrap=True, max_depth=10, max_features=sqrt, min_samples_leaf=1, min_samples_split=5, n_estimators=186; total time=   0.2s\n",
            "[CV] END bootstrap=True, max_depth=10, max_features=sqrt, min_samples_leaf=1, min_samples_split=5, n_estimators=186; total time=   0.2s\n",
            "[CV] END bootstrap=True, max_depth=10, max_features=sqrt, min_samples_leaf=8, min_samples_split=10, n_estimators=167; total time=   0.2s\n",
            "[CV] END bootstrap=True, max_depth=10, max_features=sqrt, min_samples_leaf=8, min_samples_split=10, n_estimators=167; total time=   0.2s\n",
            "[CV] END bootstrap=True, max_depth=10, max_features=sqrt, min_samples_leaf=8, min_samples_split=10, n_estimators=167; total time=   0.2s\n",
            "[CV] END bootstrap=True, max_depth=10, max_features=sqrt, min_samples_leaf=8, min_samples_split=2, n_estimators=38; total time=   0.1s\n",
            "[CV] END bootstrap=True, max_depth=10, max_features=sqrt, min_samples_leaf=8, min_samples_split=2, n_estimators=38; total time=   0.1s\n",
            "[CV] END bootstrap=True, max_depth=10, max_features=sqrt, min_samples_leaf=8, min_samples_split=2, n_estimators=38; total time=   0.0s\n",
            "[CV] END bootstrap=False, max_depth=10, max_features=sqrt, min_samples_leaf=4, min_samples_split=10, n_estimators=76; total time=   0.1s\n",
            "[CV] END bootstrap=False, max_depth=10, max_features=sqrt, min_samples_leaf=4, min_samples_split=10, n_estimators=76; total time=   0.1s\n",
            "[CV] END bootstrap=False, max_depth=10, max_features=sqrt, min_samples_leaf=4, min_samples_split=10, n_estimators=76; total time=   0.1s\n",
            "[CV] END bootstrap=False, max_depth=10, max_features=sqrt, min_samples_leaf=1, min_samples_split=10, n_estimators=62; total time=   0.1s\n",
            "[CV] END bootstrap=False, max_depth=10, max_features=sqrt, min_samples_leaf=1, min_samples_split=10, n_estimators=62; total time=   0.1s\n",
            "[CV] END bootstrap=False, max_depth=10, max_features=sqrt, min_samples_leaf=1, min_samples_split=10, n_estimators=62; total time=   0.1s\n",
            "[CV] END bootstrap=False, max_depth=10, max_features=auto, min_samples_leaf=8, min_samples_split=10, n_estimators=65; total time=   0.1s\n",
            "[CV] END bootstrap=False, max_depth=10, max_features=auto, min_samples_leaf=8, min_samples_split=10, n_estimators=65; total time=   0.1s\n",
            "[CV] END bootstrap=False, max_depth=10, max_features=auto, min_samples_leaf=8, min_samples_split=10, n_estimators=65; total time=   0.1s\n",
            "[CV] END bootstrap=True, max_depth=11, max_features=sqrt, min_samples_leaf=2, min_samples_split=2, n_estimators=10; total time=   0.0s\n",
            "[CV] END bootstrap=True, max_depth=11, max_features=sqrt, min_samples_leaf=2, min_samples_split=2, n_estimators=10; total time=   0.0s\n",
            "[CV] END bootstrap=True, max_depth=11, max_features=sqrt, min_samples_leaf=2, min_samples_split=2, n_estimators=10; total time=   0.0s\n",
            "[CV] END bootstrap=False, max_depth=10, max_features=auto, min_samples_leaf=4, min_samples_split=10, n_estimators=180; total time=   0.2s\n",
            "[CV] END bootstrap=False, max_depth=10, max_features=auto, min_samples_leaf=4, min_samples_split=10, n_estimators=180; total time=   0.2s\n",
            "[CV] END bootstrap=False, max_depth=10, max_features=auto, min_samples_leaf=4, min_samples_split=10, n_estimators=180; total time=   0.2s\n",
            "[CV] END bootstrap=True, max_depth=10, max_features=sqrt, min_samples_leaf=2, min_samples_split=10, n_estimators=170; total time=   0.2s\n",
            "[CV] END bootstrap=True, max_depth=10, max_features=sqrt, min_samples_leaf=2, min_samples_split=10, n_estimators=170; total time=   0.2s\n",
            "[CV] END bootstrap=True, max_depth=10, max_features=sqrt, min_samples_leaf=2, min_samples_split=10, n_estimators=170; total time=   0.2s\n",
            "[CV] END bootstrap=True, max_depth=10, max_features=auto, min_samples_leaf=4, min_samples_split=2, n_estimators=149; total time=   0.2s\n",
            "[CV] END bootstrap=True, max_depth=10, max_features=auto, min_samples_leaf=4, min_samples_split=2, n_estimators=149; total time=   0.2s\n",
            "[CV] END bootstrap=True, max_depth=10, max_features=auto, min_samples_leaf=4, min_samples_split=2, n_estimators=149; total time=   0.2s\n",
            "[CV] END bootstrap=True, max_depth=10, max_features=sqrt, min_samples_leaf=4, min_samples_split=2, n_estimators=68; total time=   0.1s\n",
            "[CV] END bootstrap=True, max_depth=10, max_features=sqrt, min_samples_leaf=4, min_samples_split=2, n_estimators=68; total time=   0.1s\n",
            "[CV] END bootstrap=True, max_depth=10, max_features=sqrt, min_samples_leaf=4, min_samples_split=2, n_estimators=68; total time=   0.1s\n",
            "[CV] END bootstrap=False, max_depth=10, max_features=sqrt, min_samples_leaf=8, min_samples_split=10, n_estimators=28; total time=   0.0s\n",
            "[CV] END bootstrap=False, max_depth=10, max_features=sqrt, min_samples_leaf=8, min_samples_split=10, n_estimators=28; total time=   0.0s\n",
            "[CV] END bootstrap=False, max_depth=10, max_features=sqrt, min_samples_leaf=8, min_samples_split=10, n_estimators=28; total time=   0.0s\n",
            "[CV] END bootstrap=False, max_depth=10, max_features=sqrt, min_samples_leaf=2, min_samples_split=5, n_estimators=25; total time=   0.0s\n",
            "[CV] END bootstrap=False, max_depth=10, max_features=sqrt, min_samples_leaf=2, min_samples_split=5, n_estimators=25; total time=   0.0s\n",
            "[CV] END bootstrap=False, max_depth=10, max_features=sqrt, min_samples_leaf=2, min_samples_split=5, n_estimators=25; total time=   0.0s\n",
            "[CV] END bootstrap=False, max_depth=10, max_features=auto, min_samples_leaf=8, min_samples_split=2, n_estimators=58; total time=   0.1s\n",
            "[CV] END bootstrap=False, max_depth=10, max_features=auto, min_samples_leaf=8, min_samples_split=2, n_estimators=58; total time=   0.1s\n",
            "[CV] END bootstrap=False, max_depth=10, max_features=auto, min_samples_leaf=8, min_samples_split=2, n_estimators=58; total time=   0.1s\n",
            "[CV] END bootstrap=False, max_depth=10, max_features=auto, min_samples_leaf=2, min_samples_split=5, n_estimators=164; total time=   0.2s\n",
            "[CV] END bootstrap=False, max_depth=10, max_features=auto, min_samples_leaf=2, min_samples_split=5, n_estimators=164; total time=   0.2s\n",
            "[CV] END bootstrap=False, max_depth=10, max_features=auto, min_samples_leaf=2, min_samples_split=5, n_estimators=164; total time=   0.2s\n",
            "[CV] END bootstrap=False, max_depth=10, max_features=auto, min_samples_leaf=2, min_samples_split=15, n_estimators=61; total time=   0.1s\n",
            "[CV] END bootstrap=False, max_depth=10, max_features=auto, min_samples_leaf=2, min_samples_split=15, n_estimators=61; total time=   0.1s\n",
            "[CV] END bootstrap=False, max_depth=10, max_features=auto, min_samples_leaf=2, min_samples_split=15, n_estimators=61; total time=   0.1s\n",
            "[CV] END bootstrap=True, max_depth=10, max_features=sqrt, min_samples_leaf=1, min_samples_split=10, n_estimators=61; total time=   0.1s\n",
            "[CV] END bootstrap=True, max_depth=10, max_features=sqrt, min_samples_leaf=1, min_samples_split=10, n_estimators=61; total time=   0.1s\n",
            "[CV] END bootstrap=True, max_depth=10, max_features=sqrt, min_samples_leaf=1, min_samples_split=10, n_estimators=61; total time=   0.1s\n",
            "[CV] END bootstrap=False, max_depth=10, max_features=sqrt, min_samples_leaf=1, min_samples_split=10, n_estimators=32; total time=   0.0s\n",
            "[CV] END bootstrap=False, max_depth=10, max_features=sqrt, min_samples_leaf=1, min_samples_split=10, n_estimators=32; total time=   0.0s\n",
            "[CV] END bootstrap=False, max_depth=10, max_features=sqrt, min_samples_leaf=1, min_samples_split=10, n_estimators=32; total time=   0.0s\n",
            "[CV] END bootstrap=False, max_depth=10, max_features=auto, min_samples_leaf=4, min_samples_split=10, n_estimators=90; total time=   0.1s\n",
            "[CV] END bootstrap=False, max_depth=10, max_features=auto, min_samples_leaf=4, min_samples_split=10, n_estimators=90; total time=   0.1s\n",
            "[CV] END bootstrap=False, max_depth=10, max_features=auto, min_samples_leaf=4, min_samples_split=10, n_estimators=90; total time=   0.1s\n",
            "[CV] END bootstrap=True, max_depth=10, max_features=sqrt, min_samples_leaf=4, min_samples_split=5, n_estimators=100; total time=   0.1s\n",
            "[CV] END bootstrap=True, max_depth=10, max_features=sqrt, min_samples_leaf=4, min_samples_split=5, n_estimators=100; total time=   0.1s\n",
            "[CV] END bootstrap=True, max_depth=10, max_features=sqrt, min_samples_leaf=4, min_samples_split=5, n_estimators=100; total time=   0.1s\n",
            "[CV] END bootstrap=False, max_depth=10, max_features=auto, min_samples_leaf=4, min_samples_split=10, n_estimators=117; total time=   0.1s\n",
            "[CV] END bootstrap=False, max_depth=10, max_features=auto, min_samples_leaf=4, min_samples_split=10, n_estimators=117; total time=   0.1s\n",
            "[CV] END bootstrap=False, max_depth=10, max_features=auto, min_samples_leaf=4, min_samples_split=10, n_estimators=117; total time=   0.1s\n",
            "[CV] END bootstrap=False, max_depth=10, max_features=auto, min_samples_leaf=1, min_samples_split=2, n_estimators=111; total time=   0.1s\n",
            "[CV] END bootstrap=False, max_depth=10, max_features=auto, min_samples_leaf=1, min_samples_split=2, n_estimators=111; total time=   0.1s\n",
            "[CV] END bootstrap=False, max_depth=10, max_features=auto, min_samples_leaf=1, min_samples_split=2, n_estimators=111; total time=   0.1s\n",
            "[CV] END bootstrap=True, max_depth=10, max_features=auto, min_samples_leaf=8, min_samples_split=5, n_estimators=55; total time=   0.1s\n",
            "[CV] END bootstrap=True, max_depth=10, max_features=auto, min_samples_leaf=8, min_samples_split=5, n_estimators=55; total time=   0.1s\n",
            "[CV] END bootstrap=True, max_depth=10, max_features=auto, min_samples_leaf=8, min_samples_split=5, n_estimators=55; total time=   0.1s\n",
            "[CV] END bootstrap=True, max_depth=10, max_features=sqrt, min_samples_leaf=8, min_samples_split=2, n_estimators=10; total time=   0.0s\n",
            "[CV] END bootstrap=True, max_depth=10, max_features=sqrt, min_samples_leaf=8, min_samples_split=2, n_estimators=10; total time=   0.0s\n",
            "[CV] END bootstrap=True, max_depth=10, max_features=sqrt, min_samples_leaf=8, min_samples_split=2, n_estimators=10; total time=   0.0s\n",
            "[CV] END bootstrap=False, max_depth=10, max_features=auto, min_samples_leaf=2, min_samples_split=5, n_estimators=59; total time=   0.1s\n",
            "[CV] END bootstrap=False, max_depth=10, max_features=auto, min_samples_leaf=2, min_samples_split=5, n_estimators=59; total time=   0.1s\n",
            "[CV] END bootstrap=False, max_depth=10, max_features=auto, min_samples_leaf=2, min_samples_split=5, n_estimators=59; total time=   0.1s\n",
            "[CV] END bootstrap=True, max_depth=10, max_features=sqrt, min_samples_leaf=2, min_samples_split=10, n_estimators=138; total time=   0.2s\n",
            "[CV] END bootstrap=True, max_depth=10, max_features=sqrt, min_samples_leaf=2, min_samples_split=10, n_estimators=138; total time=   0.2s\n",
            "[CV] END bootstrap=True, max_depth=10, max_features=sqrt, min_samples_leaf=2, min_samples_split=10, n_estimators=138; total time=   0.2s\n",
            "[CV] END bootstrap=False, max_depth=10, max_features=auto, min_samples_leaf=4, min_samples_split=10, n_estimators=48; total time=   0.1s\n",
            "[CV] END bootstrap=False, max_depth=10, max_features=auto, min_samples_leaf=4, min_samples_split=10, n_estimators=48; total time=   0.1s\n",
            "[CV] END bootstrap=False, max_depth=10, max_features=auto, min_samples_leaf=4, min_samples_split=10, n_estimators=48; total time=   0.0s\n",
            "[CV] END bootstrap=True, max_depth=10, max_features=auto, min_samples_leaf=8, min_samples_split=5, n_estimators=195; total time=   0.3s\n",
            "[CV] END bootstrap=True, max_depth=10, max_features=auto, min_samples_leaf=8, min_samples_split=5, n_estimators=195; total time=   0.3s\n",
            "[CV] END bootstrap=True, max_depth=10, max_features=auto, min_samples_leaf=8, min_samples_split=5, n_estimators=195; total time=   0.3s\n",
            "[CV] END bootstrap=False, max_depth=10, max_features=sqrt, min_samples_leaf=4, min_samples_split=2, n_estimators=59; total time=   0.1s\n",
            "[CV] END bootstrap=False, max_depth=10, max_features=sqrt, min_samples_leaf=4, min_samples_split=2, n_estimators=59; total time=   0.1s\n",
            "[CV] END bootstrap=False, max_depth=10, max_features=sqrt, min_samples_leaf=4, min_samples_split=2, n_estimators=59; total time=   0.1s\n",
            "[CV] END bootstrap=True, max_depth=10, max_features=sqrt, min_samples_leaf=8, min_samples_split=5, n_estimators=103; total time=   0.1s\n",
            "[CV] END bootstrap=True, max_depth=10, max_features=sqrt, min_samples_leaf=8, min_samples_split=5, n_estimators=103; total time=   0.1s\n",
            "[CV] END bootstrap=True, max_depth=10, max_features=sqrt, min_samples_leaf=8, min_samples_split=5, n_estimators=103; total time=   0.1s\n",
            "[CV] END bootstrap=True, max_depth=10, max_features=auto, min_samples_leaf=8, min_samples_split=5, n_estimators=87; total time=   0.1s\n",
            "[CV] END bootstrap=True, max_depth=10, max_features=auto, min_samples_leaf=8, min_samples_split=5, n_estimators=87; total time=   0.1s\n",
            "[CV] END bootstrap=True, max_depth=10, max_features=auto, min_samples_leaf=8, min_samples_split=5, n_estimators=87; total time=   0.1s\n",
            "[CV] END bootstrap=False, max_depth=10, max_features=sqrt, min_samples_leaf=8, min_samples_split=5, n_estimators=172; total time=   0.1s\n",
            "[CV] END bootstrap=False, max_depth=10, max_features=sqrt, min_samples_leaf=8, min_samples_split=5, n_estimators=172; total time=   0.2s\n",
            "[CV] END bootstrap=False, max_depth=10, max_features=sqrt, min_samples_leaf=8, min_samples_split=5, n_estimators=172; total time=   0.2s\n",
            "[CV] END bootstrap=True, max_depth=10, max_features=sqrt, min_samples_leaf=2, min_samples_split=10, n_estimators=81; total time=   0.1s\n",
            "[CV] END bootstrap=True, max_depth=10, max_features=sqrt, min_samples_leaf=2, min_samples_split=10, n_estimators=81; total time=   0.1s\n",
            "[CV] END bootstrap=True, max_depth=10, max_features=sqrt, min_samples_leaf=2, min_samples_split=10, n_estimators=81; total time=   0.1s\n",
            "[CV] END bootstrap=False, max_depth=10, max_features=auto, min_samples_leaf=4, min_samples_split=5, n_estimators=31; total time=   0.0s\n",
            "[CV] END bootstrap=False, max_depth=10, max_features=auto, min_samples_leaf=4, min_samples_split=5, n_estimators=31; total time=   0.0s\n",
            "[CV] END bootstrap=False, max_depth=10, max_features=auto, min_samples_leaf=4, min_samples_split=5, n_estimators=31; total time=   0.0s\n",
            "[CV] END bootstrap=False, max_depth=10, max_features=sqrt, min_samples_leaf=8, min_samples_split=15, n_estimators=89; total time=   0.1s\n",
            "[CV] END bootstrap=False, max_depth=10, max_features=sqrt, min_samples_leaf=8, min_samples_split=15, n_estimators=89; total time=   0.1s\n",
            "[CV] END bootstrap=False, max_depth=10, max_features=sqrt, min_samples_leaf=8, min_samples_split=15, n_estimators=89; total time=   0.1s\n",
            "[CV] END bootstrap=False, max_depth=10, max_features=sqrt, min_samples_leaf=2, min_samples_split=2, n_estimators=16; total time=   0.0s\n",
            "[CV] END bootstrap=False, max_depth=10, max_features=sqrt, min_samples_leaf=2, min_samples_split=2, n_estimators=16; total time=   0.0s\n",
            "[CV] END bootstrap=False, max_depth=10, max_features=sqrt, min_samples_leaf=2, min_samples_split=2, n_estimators=16; total time=   0.0s\n",
            "[CV] END bootstrap=False, max_depth=10, max_features=sqrt, min_samples_leaf=4, min_samples_split=5, n_estimators=110; total time=   0.1s\n",
            "[CV] END bootstrap=False, max_depth=10, max_features=sqrt, min_samples_leaf=4, min_samples_split=5, n_estimators=110; total time=   0.1s\n",
            "[CV] END bootstrap=False, max_depth=10, max_features=sqrt, min_samples_leaf=4, min_samples_split=5, n_estimators=110; total time=   0.1s\n",
            "[CV] END bootstrap=False, max_depth=10, max_features=sqrt, min_samples_leaf=1, min_samples_split=15, n_estimators=130; total time=   0.1s\n",
            "[CV] END bootstrap=False, max_depth=10, max_features=sqrt, min_samples_leaf=1, min_samples_split=15, n_estimators=130; total time=   0.1s\n",
            "[CV] END bootstrap=False, max_depth=10, max_features=sqrt, min_samples_leaf=1, min_samples_split=15, n_estimators=130; total time=   0.3s\n",
            "[CV] END bootstrap=True, max_depth=10, max_features=sqrt, min_samples_leaf=4, min_samples_split=10, n_estimators=81; total time=   0.2s\n",
            "[CV] END bootstrap=True, max_depth=10, max_features=sqrt, min_samples_leaf=4, min_samples_split=10, n_estimators=81; total time=   0.2s\n",
            "[CV] END bootstrap=True, max_depth=10, max_features=sqrt, min_samples_leaf=4, min_samples_split=10, n_estimators=81; total time=   0.2s\n",
            "[CV] END bootstrap=False, max_depth=10, max_features=sqrt, min_samples_leaf=4, min_samples_split=10, n_estimators=94; total time=   0.1s\n",
            "[CV] END bootstrap=False, max_depth=10, max_features=sqrt, min_samples_leaf=4, min_samples_split=10, n_estimators=94; total time=   0.1s\n",
            "[CV] END bootstrap=False, max_depth=10, max_features=sqrt, min_samples_leaf=4, min_samples_split=10, n_estimators=94; total time=   0.1s\n",
            "[CV] END bootstrap=False, max_depth=10, max_features=sqrt, min_samples_leaf=8, min_samples_split=15, n_estimators=194; total time=   0.2s\n",
            "[CV] END bootstrap=False, max_depth=10, max_features=sqrt, min_samples_leaf=8, min_samples_split=15, n_estimators=194; total time=   0.2s\n",
            "[CV] END bootstrap=False, max_depth=10, max_features=sqrt, min_samples_leaf=8, min_samples_split=15, n_estimators=194; total time=   0.2s\n",
            "[CV] END bootstrap=False, max_depth=10, max_features=sqrt, min_samples_leaf=4, min_samples_split=2, n_estimators=45; total time=   0.0s\n",
            "[CV] END bootstrap=False, max_depth=10, max_features=sqrt, min_samples_leaf=4, min_samples_split=2, n_estimators=45; total time=   0.0s\n",
            "[CV] END bootstrap=False, max_depth=10, max_features=sqrt, min_samples_leaf=4, min_samples_split=2, n_estimators=45; total time=   0.0s\n",
            "[CV] END bootstrap=True, max_depth=10, max_features=sqrt, min_samples_leaf=2, min_samples_split=5, n_estimators=163; total time=   0.2s\n",
            "[CV] END bootstrap=True, max_depth=10, max_features=sqrt, min_samples_leaf=2, min_samples_split=5, n_estimators=163; total time=   0.2s\n",
            "[CV] END bootstrap=True, max_depth=10, max_features=sqrt, min_samples_leaf=2, min_samples_split=5, n_estimators=163; total time=   0.2s\n",
            "[CV] END bootstrap=False, max_depth=11, max_features=auto, min_samples_leaf=1, min_samples_split=5, n_estimators=140; total time=   0.2s\n",
            "[CV] END bootstrap=False, max_depth=11, max_features=auto, min_samples_leaf=1, min_samples_split=5, n_estimators=140; total time=   0.1s\n",
            "[CV] END bootstrap=False, max_depth=11, max_features=auto, min_samples_leaf=1, min_samples_split=5, n_estimators=140; total time=   0.2s\n",
            "[CV] END bootstrap=True, max_depth=10, max_features=sqrt, min_samples_leaf=2, min_samples_split=5, n_estimators=135; total time=   0.2s\n",
            "[CV] END bootstrap=True, max_depth=10, max_features=sqrt, min_samples_leaf=2, min_samples_split=5, n_estimators=135; total time=   0.2s\n",
            "[CV] END bootstrap=True, max_depth=10, max_features=sqrt, min_samples_leaf=2, min_samples_split=5, n_estimators=135; total time=   0.2s\n",
            "[CV] END bootstrap=False, max_depth=10, max_features=auto, min_samples_leaf=4, min_samples_split=10, n_estimators=127; total time=   0.1s\n",
            "[CV] END bootstrap=False, max_depth=10, max_features=auto, min_samples_leaf=4, min_samples_split=10, n_estimators=127; total time=   0.1s\n",
            "[CV] END bootstrap=False, max_depth=10, max_features=auto, min_samples_leaf=4, min_samples_split=10, n_estimators=127; total time=   0.1s\n",
            "[CV] END bootstrap=False, max_depth=10, max_features=auto, min_samples_leaf=8, min_samples_split=10, n_estimators=57; total time=   0.1s\n",
            "[CV] END bootstrap=False, max_depth=10, max_features=auto, min_samples_leaf=8, min_samples_split=10, n_estimators=57; total time=   0.1s\n",
            "[CV] END bootstrap=False, max_depth=10, max_features=auto, min_samples_leaf=8, min_samples_split=10, n_estimators=57; total time=   0.1s\n",
            "[CV] END bootstrap=False, max_depth=10, max_features=sqrt, min_samples_leaf=8, min_samples_split=15, n_estimators=165; total time=   0.2s\n",
            "[CV] END bootstrap=False, max_depth=10, max_features=sqrt, min_samples_leaf=8, min_samples_split=15, n_estimators=165; total time=   0.2s\n",
            "[CV] END bootstrap=False, max_depth=10, max_features=sqrt, min_samples_leaf=8, min_samples_split=15, n_estimators=165; total time=   0.1s\n",
            "[CV] END bootstrap=False, max_depth=10, max_features=sqrt, min_samples_leaf=4, min_samples_split=10, n_estimators=137; total time=   0.1s\n",
            "[CV] END bootstrap=False, max_depth=10, max_features=sqrt, min_samples_leaf=4, min_samples_split=10, n_estimators=137; total time=   0.1s\n",
            "[CV] END bootstrap=False, max_depth=10, max_features=sqrt, min_samples_leaf=4, min_samples_split=10, n_estimators=137; total time=   0.1s\n",
            "[CV] END bootstrap=False, max_depth=10, max_features=sqrt, min_samples_leaf=8, min_samples_split=15, n_estimators=175; total time=   0.2s\n",
            "[CV] END bootstrap=False, max_depth=10, max_features=sqrt, min_samples_leaf=8, min_samples_split=15, n_estimators=175; total time=   0.2s\n",
            "[CV] END bootstrap=False, max_depth=10, max_features=sqrt, min_samples_leaf=8, min_samples_split=15, n_estimators=175; total time=   0.2s\n",
            "[CV] END bootstrap=True, max_depth=10, max_features=sqrt, min_samples_leaf=1, min_samples_split=10, n_estimators=150; total time=   0.2s\n",
            "[CV] END bootstrap=True, max_depth=10, max_features=sqrt, min_samples_leaf=1, min_samples_split=10, n_estimators=150; total time=   0.2s\n",
            "[CV] END bootstrap=True, max_depth=10, max_features=sqrt, min_samples_leaf=1, min_samples_split=10, n_estimators=150; total time=   0.2s\n",
            "[CV] END bootstrap=True, max_depth=10, max_features=sqrt, min_samples_leaf=8, min_samples_split=2, n_estimators=86; total time=   0.1s\n",
            "[CV] END bootstrap=True, max_depth=10, max_features=sqrt, min_samples_leaf=8, min_samples_split=2, n_estimators=86; total time=   0.1s\n",
            "[CV] END bootstrap=True, max_depth=10, max_features=sqrt, min_samples_leaf=8, min_samples_split=2, n_estimators=86; total time=   0.1s\n",
            "[CV] END bootstrap=False, max_depth=10, max_features=sqrt, min_samples_leaf=1, min_samples_split=2, n_estimators=13; total time=   0.0s\n",
            "[CV] END bootstrap=False, max_depth=10, max_features=sqrt, min_samples_leaf=1, min_samples_split=2, n_estimators=13; total time=   0.0s\n",
            "[CV] END bootstrap=False, max_depth=10, max_features=sqrt, min_samples_leaf=1, min_samples_split=2, n_estimators=13; total time=   0.0s\n",
            "[CV] END bootstrap=True, max_depth=10, max_features=auto, min_samples_leaf=4, min_samples_split=10, n_estimators=31; total time=   0.1s\n",
            "[CV] END bootstrap=True, max_depth=10, max_features=auto, min_samples_leaf=4, min_samples_split=10, n_estimators=31; total time=   0.0s\n",
            "[CV] END bootstrap=True, max_depth=10, max_features=auto, min_samples_leaf=4, min_samples_split=10, n_estimators=31; total time=   0.0s\n",
            "[CV] END bootstrap=False, max_depth=10, max_features=auto, min_samples_leaf=4, min_samples_split=10, n_estimators=136; total time=   0.1s\n",
            "[CV] END bootstrap=False, max_depth=10, max_features=auto, min_samples_leaf=4, min_samples_split=10, n_estimators=136; total time=   0.1s\n",
            "[CV] END bootstrap=False, max_depth=10, max_features=auto, min_samples_leaf=4, min_samples_split=10, n_estimators=136; total time=   0.1s\n",
            "[CV] END bootstrap=True, max_depth=10, max_features=auto, min_samples_leaf=8, min_samples_split=15, n_estimators=138; total time=   0.2s\n",
            "[CV] END bootstrap=True, max_depth=10, max_features=auto, min_samples_leaf=8, min_samples_split=15, n_estimators=138; total time=   0.2s\n",
            "[CV] END bootstrap=True, max_depth=10, max_features=auto, min_samples_leaf=8, min_samples_split=15, n_estimators=138; total time=   0.2s\n",
            "[CV] END bootstrap=True, max_depth=10, max_features=sqrt, min_samples_leaf=8, min_samples_split=2, n_estimators=129; total time=   0.2s\n",
            "[CV] END bootstrap=True, max_depth=10, max_features=sqrt, min_samples_leaf=8, min_samples_split=2, n_estimators=129; total time=   0.2s\n",
            "[CV] END bootstrap=True, max_depth=10, max_features=sqrt, min_samples_leaf=8, min_samples_split=2, n_estimators=129; total time=   0.2s\n",
            "[CV] END bootstrap=False, max_depth=10, max_features=auto, min_samples_leaf=8, min_samples_split=5, n_estimators=24; total time=   0.0s\n",
            "[CV] END bootstrap=False, max_depth=10, max_features=auto, min_samples_leaf=8, min_samples_split=5, n_estimators=24; total time=   0.0s\n",
            "[CV] END bootstrap=False, max_depth=10, max_features=auto, min_samples_leaf=8, min_samples_split=5, n_estimators=24; total time=   0.0s\n",
            "[CV] END bootstrap=False, max_depth=10, max_features=auto, min_samples_leaf=1, min_samples_split=5, n_estimators=169; total time=   0.2s\n",
            "[CV] END bootstrap=False, max_depth=10, max_features=auto, min_samples_leaf=1, min_samples_split=5, n_estimators=169; total time=   0.2s\n",
            "[CV] END bootstrap=False, max_depth=10, max_features=auto, min_samples_leaf=1, min_samples_split=5, n_estimators=169; total time=   0.2s\n",
            "[CV] END bootstrap=False, max_depth=10, max_features=sqrt, min_samples_leaf=8, min_samples_split=15, n_estimators=100; total time=   0.1s\n",
            "[CV] END bootstrap=False, max_depth=10, max_features=sqrt, min_samples_leaf=8, min_samples_split=15, n_estimators=100; total time=   0.1s\n",
            "[CV] END bootstrap=False, max_depth=10, max_features=sqrt, min_samples_leaf=8, min_samples_split=15, n_estimators=100; total time=   0.1s\n",
            "[CV] END bootstrap=True, max_depth=10, max_features=sqrt, min_samples_leaf=1, min_samples_split=15, n_estimators=112; total time=   0.2s\n",
            "[CV] END bootstrap=True, max_depth=10, max_features=sqrt, min_samples_leaf=1, min_samples_split=15, n_estimators=112; total time=   0.2s\n",
            "[CV] END bootstrap=True, max_depth=10, max_features=sqrt, min_samples_leaf=1, min_samples_split=15, n_estimators=112; total time=   0.2s\n",
            "[CV] END bootstrap=True, max_depth=10, max_features=sqrt, min_samples_leaf=2, min_samples_split=15, n_estimators=43; total time=   0.1s\n",
            "[CV] END bootstrap=True, max_depth=10, max_features=sqrt, min_samples_leaf=2, min_samples_split=15, n_estimators=43; total time=   0.1s\n",
            "[CV] END bootstrap=True, max_depth=10, max_features=sqrt, min_samples_leaf=2, min_samples_split=15, n_estimators=43; total time=   0.1s\n",
            "[CV] END bootstrap=True, max_depth=10, max_features=sqrt, min_samples_leaf=2, min_samples_split=10, n_estimators=195; total time=   0.3s\n",
            "[CV] END bootstrap=True, max_depth=10, max_features=sqrt, min_samples_leaf=2, min_samples_split=10, n_estimators=195; total time=   0.2s\n",
            "[CV] END bootstrap=True, max_depth=10, max_features=sqrt, min_samples_leaf=2, min_samples_split=10, n_estimators=195; total time=   0.3s\n",
            "[CV] END bootstrap=True, max_depth=10, max_features=sqrt, min_samples_leaf=4, min_samples_split=15, n_estimators=167; total time=   0.2s\n",
            "[CV] END bootstrap=True, max_depth=10, max_features=sqrt, min_samples_leaf=4, min_samples_split=15, n_estimators=167; total time=   0.2s\n",
            "[CV] END bootstrap=True, max_depth=10, max_features=sqrt, min_samples_leaf=4, min_samples_split=15, n_estimators=167; total time=   0.2s\n",
            "[CV] END bootstrap=True, max_depth=10, max_features=sqrt, min_samples_leaf=8, min_samples_split=5, n_estimators=75; total time=   0.1s\n",
            "[CV] END bootstrap=True, max_depth=10, max_features=sqrt, min_samples_leaf=8, min_samples_split=5, n_estimators=75; total time=   0.1s\n",
            "[CV] END bootstrap=True, max_depth=10, max_features=sqrt, min_samples_leaf=8, min_samples_split=5, n_estimators=75; total time=   0.1s\n",
            "[CV] END bootstrap=False, max_depth=10, max_features=auto, min_samples_leaf=1, min_samples_split=2, n_estimators=118; total time=   0.2s\n",
            "[CV] END bootstrap=False, max_depth=10, max_features=auto, min_samples_leaf=1, min_samples_split=2, n_estimators=118; total time=   0.2s\n",
            "[CV] END bootstrap=False, max_depth=10, max_features=auto, min_samples_leaf=1, min_samples_split=2, n_estimators=118; total time=   0.1s\n",
            "[CV] END bootstrap=True, max_depth=10, max_features=auto, min_samples_leaf=8, min_samples_split=15, n_estimators=37; total time=   0.1s\n",
            "[CV] END bootstrap=True, max_depth=10, max_features=auto, min_samples_leaf=8, min_samples_split=15, n_estimators=37; total time=   0.1s\n",
            "[CV] END bootstrap=True, max_depth=10, max_features=auto, min_samples_leaf=8, min_samples_split=15, n_estimators=37; total time=   0.1s\n",
            "[CV] END bootstrap=False, max_depth=10, max_features=auto, min_samples_leaf=2, min_samples_split=5, n_estimators=132; total time=   0.1s\n",
            "[CV] END bootstrap=False, max_depth=10, max_features=auto, min_samples_leaf=2, min_samples_split=5, n_estimators=132; total time=   0.1s\n",
            "[CV] END bootstrap=False, max_depth=10, max_features=auto, min_samples_leaf=2, min_samples_split=5, n_estimators=132; total time=   0.1s\n",
            "[CV] END bootstrap=True, max_depth=10, max_features=sqrt, min_samples_leaf=4, min_samples_split=5, n_estimators=117; total time=   0.2s\n",
            "[CV] END bootstrap=True, max_depth=10, max_features=sqrt, min_samples_leaf=4, min_samples_split=5, n_estimators=117; total time=   0.2s\n",
            "[CV] END bootstrap=True, max_depth=10, max_features=sqrt, min_samples_leaf=4, min_samples_split=5, n_estimators=117; total time=   0.2s\n",
            "[CV] END bootstrap=True, max_depth=10, max_features=auto, min_samples_leaf=1, min_samples_split=5, n_estimators=146; total time=   0.2s\n",
            "[CV] END bootstrap=True, max_depth=10, max_features=auto, min_samples_leaf=1, min_samples_split=5, n_estimators=146; total time=   0.2s\n",
            "[CV] END bootstrap=True, max_depth=10, max_features=auto, min_samples_leaf=1, min_samples_split=5, n_estimators=146; total time=   0.2s\n",
            "[CV] END bootstrap=True, max_depth=10, max_features=sqrt, min_samples_leaf=2, min_samples_split=2, n_estimators=10; total time=   0.0s\n",
            "[CV] END bootstrap=True, max_depth=10, max_features=sqrt, min_samples_leaf=2, min_samples_split=2, n_estimators=10; total time=   0.0s\n",
            "[CV] END bootstrap=True, max_depth=10, max_features=sqrt, min_samples_leaf=2, min_samples_split=2, n_estimators=10; total time=   0.0s\n",
            "[CV] END bootstrap=True, max_depth=10, max_features=sqrt, min_samples_leaf=8, min_samples_split=5, n_estimators=50; total time=   0.1s\n",
            "[CV] END bootstrap=True, max_depth=10, max_features=sqrt, min_samples_leaf=8, min_samples_split=5, n_estimators=50; total time=   0.1s\n",
            "[CV] END bootstrap=True, max_depth=10, max_features=sqrt, min_samples_leaf=8, min_samples_split=5, n_estimators=50; total time=   0.1s\n",
            "[CV] END bootstrap=True, max_depth=10, max_features=sqrt, min_samples_leaf=1, min_samples_split=15, n_estimators=20; total time=   0.0s\n",
            "[CV] END bootstrap=True, max_depth=10, max_features=sqrt, min_samples_leaf=1, min_samples_split=15, n_estimators=20; total time=   0.0s\n",
            "[CV] END bootstrap=True, max_depth=10, max_features=sqrt, min_samples_leaf=1, min_samples_split=15, n_estimators=20; total time=   0.0s\n",
            "[CV] END bootstrap=True, max_depth=10, max_features=sqrt, min_samples_leaf=4, min_samples_split=15, n_estimators=15; total time=   0.0s\n",
            "[CV] END bootstrap=True, max_depth=10, max_features=sqrt, min_samples_leaf=4, min_samples_split=15, n_estimators=15; total time=   0.0s\n",
            "[CV] END bootstrap=True, max_depth=10, max_features=sqrt, min_samples_leaf=4, min_samples_split=15, n_estimators=15; total time=   0.0s\n",
            "[CV] END bootstrap=True, max_depth=10, max_features=sqrt, min_samples_leaf=2, min_samples_split=15, n_estimators=185; total time=   0.3s\n",
            "[CV] END bootstrap=True, max_depth=10, max_features=sqrt, min_samples_leaf=2, min_samples_split=15, n_estimators=185; total time=   0.2s\n",
            "[CV] END bootstrap=True, max_depth=10, max_features=sqrt, min_samples_leaf=2, min_samples_split=15, n_estimators=185; total time=   0.2s\n",
            "[CV] END bootstrap=False, max_depth=10, max_features=sqrt, min_samples_leaf=2, min_samples_split=15, n_estimators=179; total time=   0.1s\n",
            "[CV] END bootstrap=False, max_depth=10, max_features=sqrt, min_samples_leaf=2, min_samples_split=15, n_estimators=179; total time=   0.2s\n",
            "[CV] END bootstrap=False, max_depth=10, max_features=sqrt, min_samples_leaf=2, min_samples_split=15, n_estimators=179; total time=   0.1s\n",
            "[CV] END bootstrap=False, max_depth=10, max_features=sqrt, min_samples_leaf=8, min_samples_split=15, n_estimators=38; total time=   0.0s\n",
            "[CV] END bootstrap=False, max_depth=10, max_features=sqrt, min_samples_leaf=8, min_samples_split=15, n_estimators=38; total time=   0.0s\n",
            "[CV] END bootstrap=False, max_depth=10, max_features=sqrt, min_samples_leaf=8, min_samples_split=15, n_estimators=38; total time=   0.0s\n",
            "[CV] END bootstrap=False, max_depth=10, max_features=sqrt, min_samples_leaf=8, min_samples_split=10, n_estimators=92; total time=   0.1s\n",
            "[CV] END bootstrap=False, max_depth=10, max_features=sqrt, min_samples_leaf=8, min_samples_split=10, n_estimators=92; total time=   0.1s\n",
            "[CV] END bootstrap=False, max_depth=10, max_features=sqrt, min_samples_leaf=8, min_samples_split=10, n_estimators=92; total time=   0.1s\n",
            "[CV] END bootstrap=True, max_depth=11, max_features=auto, min_samples_leaf=8, min_samples_split=10, n_estimators=147; total time=   0.2s\n",
            "[CV] END bootstrap=True, max_depth=11, max_features=auto, min_samples_leaf=8, min_samples_split=10, n_estimators=147; total time=   0.2s\n",
            "[CV] END bootstrap=True, max_depth=11, max_features=auto, min_samples_leaf=8, min_samples_split=10, n_estimators=147; total time=   0.2s\n",
            "[CV] END bootstrap=True, max_depth=10, max_features=sqrt, min_samples_leaf=8, min_samples_split=5, n_estimators=144; total time=   0.2s\n",
            "[CV] END bootstrap=True, max_depth=10, max_features=sqrt, min_samples_leaf=8, min_samples_split=5, n_estimators=144; total time=   0.2s\n",
            "[CV] END bootstrap=True, max_depth=10, max_features=sqrt, min_samples_leaf=8, min_samples_split=5, n_estimators=144; total time=   0.2s\n",
            "[CV] END bootstrap=True, max_depth=10, max_features=sqrt, min_samples_leaf=2, min_samples_split=10, n_estimators=52; total time=   0.1s\n",
            "[CV] END bootstrap=True, max_depth=10, max_features=sqrt, min_samples_leaf=2, min_samples_split=10, n_estimators=52; total time=   0.1s\n",
            "[CV] END bootstrap=True, max_depth=10, max_features=sqrt, min_samples_leaf=2, min_samples_split=10, n_estimators=52; total time=   0.1s\n",
            "[CV] END bootstrap=False, max_depth=10, max_features=auto, min_samples_leaf=4, min_samples_split=15, n_estimators=156; total time=   0.1s\n",
            "[CV] END bootstrap=False, max_depth=10, max_features=auto, min_samples_leaf=4, min_samples_split=15, n_estimators=156; total time=   0.2s\n",
            "[CV] END bootstrap=False, max_depth=10, max_features=auto, min_samples_leaf=4, min_samples_split=15, n_estimators=156; total time=   0.1s\n",
            "[CV] END bootstrap=False, max_depth=10, max_features=sqrt, min_samples_leaf=8, min_samples_split=15, n_estimators=192; total time=   0.2s\n",
            "[CV] END bootstrap=False, max_depth=10, max_features=sqrt, min_samples_leaf=8, min_samples_split=15, n_estimators=192; total time=   0.2s\n",
            "[CV] END bootstrap=False, max_depth=10, max_features=sqrt, min_samples_leaf=8, min_samples_split=15, n_estimators=192; total time=   0.2s\n",
            "[CV] END bootstrap=False, max_depth=10, max_features=sqrt, min_samples_leaf=4, min_samples_split=15, n_estimators=188; total time=   0.2s\n",
            "[CV] END bootstrap=False, max_depth=10, max_features=sqrt, min_samples_leaf=4, min_samples_split=15, n_estimators=188; total time=   0.2s\n",
            "[CV] END bootstrap=False, max_depth=10, max_features=sqrt, min_samples_leaf=4, min_samples_split=15, n_estimators=188; total time=   0.2s\n",
            "[CV] END bootstrap=True, max_depth=10, max_features=auto, min_samples_leaf=4, min_samples_split=2, n_estimators=195; total time=   0.3s\n",
            "[CV] END bootstrap=True, max_depth=10, max_features=auto, min_samples_leaf=4, min_samples_split=2, n_estimators=195; total time=   0.3s\n",
            "[CV] END bootstrap=True, max_depth=10, max_features=auto, min_samples_leaf=4, min_samples_split=2, n_estimators=195; total time=   0.3s\n",
            "[CV] END bootstrap=False, max_depth=10, max_features=auto, min_samples_leaf=2, min_samples_split=5, n_estimators=62; total time=   0.1s\n",
            "[CV] END bootstrap=False, max_depth=10, max_features=auto, min_samples_leaf=2, min_samples_split=5, n_estimators=62; total time=   0.1s\n",
            "[CV] END bootstrap=False, max_depth=10, max_features=auto, min_samples_leaf=2, min_samples_split=5, n_estimators=62; total time=   0.1s\n",
            "[CV] END bootstrap=False, max_depth=10, max_features=auto, min_samples_leaf=4, min_samples_split=10, n_estimators=77; total time=   0.1s\n",
            "[CV] END bootstrap=False, max_depth=10, max_features=auto, min_samples_leaf=4, min_samples_split=10, n_estimators=77; total time=   0.1s\n",
            "[CV] END bootstrap=False, max_depth=10, max_features=auto, min_samples_leaf=4, min_samples_split=10, n_estimators=77; total time=   0.1s\n",
            "[CV] END bootstrap=False, max_depth=10, max_features=auto, min_samples_leaf=8, min_samples_split=5, n_estimators=137; total time=   0.1s\n",
            "[CV] END bootstrap=False, max_depth=10, max_features=auto, min_samples_leaf=8, min_samples_split=5, n_estimators=137; total time=   0.1s\n",
            "[CV] END bootstrap=False, max_depth=10, max_features=auto, min_samples_leaf=8, min_samples_split=5, n_estimators=137; total time=   0.1s\n",
            "[CV] END bootstrap=False, max_depth=10, max_features=auto, min_samples_leaf=1, min_samples_split=10, n_estimators=138; total time=   0.1s\n",
            "[CV] END bootstrap=False, max_depth=10, max_features=auto, min_samples_leaf=1, min_samples_split=10, n_estimators=138; total time=   0.1s\n",
            "[CV] END bootstrap=False, max_depth=10, max_features=auto, min_samples_leaf=1, min_samples_split=10, n_estimators=138; total time=   0.1s\n",
            "[CV] END bootstrap=True, max_depth=10, max_features=auto, min_samples_leaf=4, min_samples_split=15, n_estimators=140; total time=   0.2s\n",
            "[CV] END bootstrap=True, max_depth=10, max_features=auto, min_samples_leaf=4, min_samples_split=15, n_estimators=140; total time=   0.2s\n",
            "[CV] END bootstrap=True, max_depth=10, max_features=auto, min_samples_leaf=4, min_samples_split=15, n_estimators=140; total time=   0.2s\n",
            "[CV] END bootstrap=True, max_depth=10, max_features=sqrt, min_samples_leaf=1, min_samples_split=2, n_estimators=105; total time=   0.1s\n",
            "[CV] END bootstrap=True, max_depth=10, max_features=sqrt, min_samples_leaf=1, min_samples_split=2, n_estimators=105; total time=   0.1s\n",
            "[CV] END bootstrap=True, max_depth=10, max_features=sqrt, min_samples_leaf=1, min_samples_split=2, n_estimators=105; total time=   0.2s\n",
            "[CV] END bootstrap=True, max_depth=10, max_features=auto, min_samples_leaf=1, min_samples_split=5, n_estimators=81; total time=   0.1s\n",
            "[CV] END bootstrap=True, max_depth=10, max_features=auto, min_samples_leaf=1, min_samples_split=5, n_estimators=81; total time=   0.1s\n",
            "[CV] END bootstrap=True, max_depth=10, max_features=auto, min_samples_leaf=1, min_samples_split=5, n_estimators=81; total time=   0.1s\n"
          ]
        },
        {
          "output_type": "execute_result",
          "data": {
            "text/plain": [
              "RandomizedSearchCV(cv=3, estimator=RandomForestRegressor(random_state=100),\n",
              "                   n_iter=100,\n",
              "                   param_distributions=[{'bootstrap': [True, False],\n",
              "                                         'max_depth': [10, 10, 10, 10, 10, 10,\n",
              "                                                       10, 10, 10, 10, 10, 10,\n",
              "                                                       10, 10, 10, 10, 10, 10,\n",
              "                                                       10, 10, 10, 10, 10, 10,\n",
              "                                                       10, 10, 10, 10, 10, 10, ...],\n",
              "                                         'max_features': ['auto', 'sqrt'],\n",
              "                                         'min_samples_leaf': [1, 2, 4, 8],\n",
              "                                         'min_samples_split': [2, 5, 10, 15],\n",
              "                                         'n_estimators': [200, 199, 199, 199,\n",
              "                                                          199, 199, 199, 199,\n",
              "                                                          199, 199, 199, 198,\n",
              "                                                          198, 198, 198, 198,\n",
              "                                                          198, 198, 198, 198,\n",
              "                                                          198, 198, 197, 197,\n",
              "                                                          197, 197, 197, 197,\n",
              "                                                          197, 197, ...]}],\n",
              "                   random_state=100, verbose=2)"
            ]
          },
          "metadata": {},
          "execution_count": 66
        }
      ]
    },
    {
      "cell_type": "code",
      "source": [
        "rf_random.score(X_valid_filtered, y_valid)"
      ],
      "metadata": {
        "colab": {
          "base_uri": "https://localhost:8080/"
        },
        "id": "Mh4L9wWS2mI6",
        "outputId": "5de46b58-b76a-4e4a-aa06-cab352e2c493"
      },
      "execution_count": null,
      "outputs": [
        {
          "output_type": "execute_result",
          "data": {
            "text/plain": [
              "0.6721569089915655"
            ]
          },
          "metadata": {},
          "execution_count": 67
        }
      ]
    },
    {
      "cell_type": "code",
      "source": [
        "rf_random.best_params_"
      ],
      "metadata": {
        "colab": {
          "base_uri": "https://localhost:8080/"
        },
        "id": "mjf08VWQGcri",
        "outputId": "aa795372-d39c-4c29-c05c-986ab1df631c"
      },
      "execution_count": null,
      "outputs": [
        {
          "output_type": "execute_result",
          "data": {
            "text/plain": [
              "{'n_estimators': 38,\n",
              " 'min_samples_split': 2,\n",
              " 'min_samples_leaf': 8,\n",
              " 'max_features': 'sqrt',\n",
              " 'max_depth': 10,\n",
              " 'bootstrap': True}"
            ]
          },
          "metadata": {},
          "execution_count": 68
        }
      ]
    }
  ]
}